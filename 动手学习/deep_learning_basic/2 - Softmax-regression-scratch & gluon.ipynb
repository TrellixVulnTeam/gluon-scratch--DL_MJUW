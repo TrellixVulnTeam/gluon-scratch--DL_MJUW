{
 "cells": [
  {
   "cell_type": "code",
   "execution_count": 1,
   "metadata": {},
   "outputs": [],
   "source": [
    "from mxnet import gluon\n",
    "from mxnet import nd\n",
    "from mxnet import autograd as ag"
   ]
  },
  {
   "cell_type": "markdown",
   "metadata": {},
   "source": [
    "## 使用数据集\n",
    "这次使用的数据集是 **Fashion Mnist**.**FashionMNIST** 是一个替代 **MNIST** 手写数字集的图像数据集。 它是由 Zalando（一家德国的时尚科技公司）旗下的研究部门提供。其涵盖了来自 10 种类别的共 7 万个不同商品的正面图片。\n",
    "\n",
    "FashionMNIST 的大小、格式和训练集/测试集划分与原始的 MNIST 完全一致。**60000/10000** 的训练测试数据划分，28x28 的灰度图片。你可以直接用它来测试你的机器学习和深度学习算法性能，且不需要改动任何的代码。\n",
    "替代MNIST的原因： MNIST 太简单了，很多算法在测试集上的性能已经达到 99.6%！而且Fashion Mnist已经得到业内人士的认可。\n",
    "![image](../image/FashionMnist.jpeg)"
   ]
  },
  {
   "cell_type": "markdown",
   "metadata": {},
   "source": [
    "### 下载/读取数据集\n",
    "第一次的时候会下载，后面就可以直接使用了"
   ]
  },
  {
   "cell_type": "code",
   "execution_count": 2,
   "metadata": {},
   "outputs": [],
   "source": [
    "def transform(data, label):\n",
    "    return data.astype('float32')/255, label.astype('float32')\n",
    "train_mnist = gluon.data.vision.FashionMNIST(train=True, transform=transform)\n",
    "test_mnist = gluon.data.vision.FashionMNIST(train=False, transform=transform)"
   ]
  },
  {
   "cell_type": "code",
   "execution_count": 3,
   "metadata": {},
   "outputs": [],
   "source": [
    "import matplotlib.pyplot as plt\n",
    "def show_images(images):\n",
    "    n = images.shape[0]\n",
    "    _, figs = plt.subplots(1, n, figsize=(15,15))\n",
    "    for i in range(n):\n",
    "        figs[i].imshow(images[i].reshape((28,28)).asnumpy())\n",
    "        figs[i].axes.get_xaxis().set_visible(False)\n",
    "        figs[i].axes.get_yaxis().set_visible(False)\n",
    "    plt.show()"
   ]
  },
  {
   "cell_type": "code",
   "execution_count": 4,
   "metadata": {
    "scrolled": true
   },
   "outputs": [
    {
     "data": {
      "image/png": "[encoded data removed]",
      "text/plain": [
       "<Figure size 1080x1080 with 10 Axes>"
      ]
     },
     "metadata": {},
     "output_type": "display_data"
    }
   ],
   "source": [
    "data, label = train_mnist[0:10]\n",
    "show_images(data)"
   ]
  },
  {
   "cell_type": "markdown",
   "metadata": {},
   "source": [
    "| 标注标号 | 描述              |\n",
    "| ---------| ------------------|\n",
    "| 0        | T-shiirt/top(T恤）|\n",
    "| 1        |Trouser(裤子）|\n",
    "| 2        |Pullover(套衫）|\n",
    "| 3        |Dress(裙子）|\n",
    "| 4        |Coat(外套）|\n",
    "| 5        |Sandal(凉鞋）|\n",
    "| 6        |Shirt(汗衫）|\n",
    "| 7        |Sneake(运动鞋）|\n",
    "| 8        |Bag(包）|\n",
    "| 9        |Ankle boot(裸靴）|"
   ]
  },
  {
   "cell_type": "markdown",
   "metadata": {},
   "source": [
    "### 数据读取\n",
    "直接使用`gluon`的DataLoader函数，每次yield一个批量"
   ]
  },
  {
   "cell_type": "code",
   "execution_count": 4,
   "metadata": {},
   "outputs": [],
   "source": [
    "batch_size = 256\n",
    "train_data = gluon.data.DataLoader(train_mnist, batch_size, shuffle=True)\n",
    "test_data = gluon.data.DataLoader(test_mnist, batch_size, shuffle=False)"
   ]
  },
  {
   "cell_type": "markdown",
   "metadata": {},
   "source": [
    "### 初始化模型参数\n",
    "跟线性模型一样，每个样本会表示成一个向量。我们这里是 28*28 大小的图片，所以输入向量的长度是 28*28=784. 因为数据集有10个类型，所以需要输出一个长度为10的向量，所以我们需要一个 784*10的权重矩阵"
   ]
  },
  {
   "cell_type": "code",
   "execution_count": 6,
   "metadata": {},
   "outputs": [],
   "source": [
    "num_inputs = 784\n",
    "num_outputs = 10\n",
    "\n",
    "W = 0.01 * nd.random_normal(shape=(num_inputs,num_outputs))\n",
    "b = nd.random_normal(shape=num_outputs)\n",
    "\n",
    "params = [W, b]\n",
    "for param in params:\n",
    "    param.attach_grad()"
   ]
  },
  {
   "cell_type": "markdown",
   "metadata": {},
   "source": [
    "### 定义模型\n",
    "在线性回归模型里，我们只需要输出一个标量yhat使得尽可能的靠近目标值。但在这里的分类里，我们需要属于每个类别的概率。这些概率需要值为正，而且加起来和为1.如果使用`yhat = W*x`不能保证这一点。一个通常的做法是通过 Softmax 将任意的输入归一化成合法的概率值。"
   ]
  },
  {
   "cell_type": "code",
   "execution_count": 7,
   "metadata": {},
   "outputs": [],
   "source": [
    "from mxnet import nd\n",
    "def softmax(X):\n",
    "    exp = nd.exp(X)\n",
    "    # 假设exp是矩阵， 这里进行求和， 病要求axis=1,\n",
    "    # 就是返回（nrows, 1) 形状的矩阵\n",
    "    partition = exp.sum(axis=1, keepdims=True)\n",
    "    return exp / partition\n",
    "    "
   ]
  },
  {
   "cell_type": "code",
   "execution_count": 8,
   "metadata": {},
   "outputs": [],
   "source": [
    "def net(X):\n",
    "    return softmax(nd.dot(X.reshape((-1, num_inputs)),  W) +b)"
   ]
  },
  {
   "cell_type": "markdown",
   "metadata": {},
   "source": [
    "### 交叉熵损失函数\n",
    "我们需要定义一个针对预测为概率值的损失函数。其中最常见的是交叉熵损失函数，它将两个概率分布的负交叉熵作为目标值，最小化这个值等价于最大化这两个概率的相似度。\n",
    "\n",
    "具体来说，我们先将真是标号表示成一个概率分布，例如如果y=1,那么其对应的分布就是一个除了第二个元素为1其他全为0的唱为10的向量\n"
   ]
  },
  {
   "cell_type": "code",
   "execution_count": 9,
   "metadata": {},
   "outputs": [],
   "source": [
    "def cross_entropy(yhat, y):\n",
    "    return -nd.log(nd.pick(yhat, y))"
   ]
  },
  {
   "cell_type": "markdown",
   "metadata": {},
   "source": [
    "### 计算精度\n",
    "给定一个概率输出，我们将预测概率最高的那个类作为预测的类，然后通过比较真实标号我们可以计算精度："
   ]
  },
  {
   "cell_type": "code",
   "execution_count": 10,
   "metadata": {},
   "outputs": [],
   "source": [
    "def accuracy(output, label):\n",
    "    return nd.mean(output.argmax(axis=1)==label).asscalar()"
   ]
  },
  {
   "cell_type": "code",
   "execution_count": 11,
   "metadata": {},
   "outputs": [],
   "source": [
    "def evaluate_accuracy(data_iterator, net):\n",
    "    acc = 0.\n",
    "    for data, label in data_iterator:\n",
    "        output = net(data)\n",
    "        acc += accuracy(output, label)\n",
    "    return acc /len(data_iterator)"
   ]
  },
  {
   "cell_type": "markdown",
   "metadata": {},
   "source": [
    "因为我们随机初始化了模型， 所以这个模型的精度应该大概是 `1/num_outputs = 0.1`"
   ]
  },
  {
   "cell_type": "code",
   "execution_count": 12,
   "metadata": {
    "scrolled": true
   },
   "outputs": [
    {
     "data": {
      "text/plain": [
       "0.103515625"
      ]
     },
     "execution_count": 12,
     "metadata": {},
     "output_type": "execute_result"
    }
   ],
   "source": [
    "evaluate_accuracy(test_data, net)"
   ]
  },
  {
   "cell_type": "markdown",
   "metadata": {},
   "source": [
    "### 训练模型"
   ]
  },
  {
   "cell_type": "code",
   "execution_count": 13,
   "metadata": {},
   "outputs": [],
   "source": [
    "from mxnet import autograd"
   ]
  },
  {
   "cell_type": "code",
   "execution_count": 14,
   "metadata": {},
   "outputs": [],
   "source": [
    "def SGD(params, lr):\n",
    "    for param in params:\n",
    "        param[:] = param - lr * param.grad"
   ]
  },
  {
   "cell_type": "code",
   "execution_count": 15,
   "metadata": {},
   "outputs": [
    {
     "name": "stdout",
     "output_type": "stream",
     "text": [
      "Epoch 0. Loss: 0.789588, Train acc 0.745667, Test acc 0.799609\n",
      "Epoch 1. Loss: 0.573887, Train acc 0.807984, Test acc 0.814551\n",
      "Epoch 2. Loss: 0.529324, Train acc 0.820711, Test acc 0.824121\n",
      "Epoch 3. Loss: 0.506211, Train acc 0.827521, Test acc 0.831055\n",
      "Epoch 4. Loss: 0.489538, Train acc 0.831887, Test acc 0.836426\n"
     ]
    }
   ],
   "source": [
    "learning_rate = 0.1\n",
    "\n",
    "for epoch in range(5):\n",
    "    train_loss = 0.\n",
    "    train_acc = 0.\n",
    "    i = 0\n",
    "    for data, label in train_data:\n",
    "        with autograd.record():\n",
    "            output = net(data)\n",
    "            loss = cross_entropy(output, label)\n",
    "        if i ==0 or i==100 or i ==200:\n",
    "            a = nd.exp(nd.dot(data.reshape((-1, num_inputs)),  W) +b)\n",
    "            partition = a.sum(axis=1, keepdims=True)\n",
    "        loss.backward()\n",
    "        #j 将梯度做平均， 这样学习率会对batch_size不那么敏感\n",
    "        SGD(params, learning_rate/batch_size)\n",
    "\n",
    "        i += 1\n",
    "        train_loss += nd.mean(loss).asscalar()\n",
    "        train_acc += accuracy(output, label)\n",
    "    test_acc = evaluate_accuracy(test_data, net)\n",
    "    print(\"Epoch %d. Loss: %f, Train acc %f, Test acc %f\" %(\n",
    "        epoch, train_loss/len(train_data), train_acc/len(train_data), test_acc))"
   ]
  },
  {
   "cell_type": "markdown",
   "metadata": {},
   "source": [
    "如果`W`初始化的时候，不给一个比较小的数，刚开始的效果比较差；给一个比较小的参数，收敛会更快"
   ]
  },
  {
   "cell_type": "markdown",
   "metadata": {},
   "source": [
    "### 预测"
   ]
  },
  {
   "cell_type": "code",
   "execution_count": 16,
   "metadata": {},
   "outputs": [
    {
     "data": {
      "image/png": "[encoded data removed]",
      "text/plain": [
       "<Figure size 1080x1080 with 9 Axes>"
      ]
     },
     "metadata": {},
     "output_type": "display_data"
    },
    {
     "name": "stdout",
     "output_type": "stream",
     "text": [
      "true labels\n",
      "[0. 1. 2. 2. 3. 2. 8. 6. 5.]\n",
      "predicted labels\n",
      "\n",
      "[0. 1. 2. 2. 4. 6. 8. 6. 5.]\n",
      "<NDArray 9 @cpu(0)>\n"
     ]
    }
   ],
   "source": [
    "data, label = test_mnist[0:9]\n",
    "show_images(data)\n",
    "print('true labels')\n",
    "print(label)\n",
    "\n",
    "predicted_labels = net(data).argmax(axis=1)\n",
    "print('predicted labels')\n",
    "print(predicted_labels)"
   ]
  },
  {
   "cell_type": "markdown",
   "metadata": {},
   "source": [
    "### 结论\n",
    "与前面的线性回归相比，你会发现多类逻辑回归教程的结构跟其非常相似；获取数据、定义模型、及优化算法和求解。事实上，几乎所有的神经网络应用都有着相同的结构。他们的主要区别就在于模型的类型和数据的规模。每一两年会有一两种新的优化算法出来，但它们基本都是随机梯度下降的变种。"
   ]
  },
  {
   "cell_type": "markdown",
   "metadata": {},
   "source": [
    "### 思考\n",
    "尝试增大学习率，你会发现结果马上会变得很糟，精度基本会徘徊在随机的0.1左右，为什么？\n",
    "提示：\n",
    "- 打印下output看看是不是有什么异常\n",
    "- 前面线性回归还好好的，这里我们在net（）里加了什么呢？\n",
    "- 如果给exp输入个很大的数会是什么样的\n",
    "- 即使解决exp的问题，求出来的导数是不是还是不稳定？\n",
    "\n",
    "[Mxnet主开发者pluskid关于Softmax数值稳定性的解释](http://freemind.pluskid.org/machine-learning/softmax-vs-softmax-loss-numerical-stability/)"
   ]
  },
  {
   "cell_type": "markdown",
   "metadata": {},
   "source": [
    "# Gluon版本"
   ]
  },
  {
   "cell_type": "markdown",
   "metadata": {},
   "source": [
    "### 定义模型 及参数初始化"
   ]
  },
  {
   "cell_type": "code",
   "execution_count": 17,
   "metadata": {},
   "outputs": [],
   "source": [
    "net = gluon.nn.Sequential()\n",
    "with net.name_scope():\n",
    "    net.add(gluon.nn.Flatten())\n",
    "    net.add(gluon.nn.Dense(10))\n",
    "net.initialize()"
   ]
  },
  {
   "cell_type": "markdown",
   "metadata": {},
   "source": [
    "### Softmax和交叉熵损失函数\n",
    "分开定义 softmax 和 交叉熵损失函数会存在数值不稳定；所以gluon会把soft和交叉熵损失函数结合在一起变成一层，这样数值更稳定"
   ]
  },
  {
   "cell_type": "code",
   "execution_count": 18,
   "metadata": {},
   "outputs": [],
   "source": [
    "soft_cross_entropy = gluon.loss.SoftmaxCrossEntropyLoss()"
   ]
  },
  {
   "cell_type": "markdown",
   "metadata": {},
   "source": [
    "### 优化"
   ]
  },
  {
   "cell_type": "code",
   "execution_count": 19,
   "metadata": {
    "scrolled": true
   },
   "outputs": [],
   "source": [
    "trainer = gluon.Trainer(net.collect_params(),  'sgd',  {'learning_rate':0.1})"
   ]
  },
  {
   "cell_type": "markdown",
   "metadata": {},
   "source": [
    "### 训练"
   ]
  },
  {
   "cell_type": "code",
   "execution_count": 20,
   "metadata": {},
   "outputs": [
    {
     "name": "stdout",
     "output_type": "stream",
     "text": [
      "Epoch 0. Loss: 0.800911, Train acc 0.736320, Test acc 0.796973\n",
      "Epoch 1. Loss: 0.577943, Train acc 0.809070, Test acc 0.821777\n",
      "Epoch 2. Loss: 0.531711, Train acc 0.822645, Test acc 0.829590\n",
      "Epoch 3. Loss: 0.506919, Train acc 0.829233, Test acc 0.834180\n",
      "Epoch 4. Loss: 0.491448, Train acc 0.833433, Test acc 0.840137\n"
     ]
    }
   ],
   "source": [
    "num_epochs = 5\n",
    "lr = 0.1\n",
    "for epoch in range(5):\n",
    "    train_loss = 0.\n",
    "    train_acc = 0.\n",
    "    for data, label in train_data:\n",
    "        with autograd.record():\n",
    "            output = net(data)\n",
    "            loss = soft_cross_entropy(output, label)\n",
    "        loss.backward()\n",
    "        trainer.step(batch_size)\n",
    "        train_loss += nd.mean(loss).asscalar()\n",
    "        train_acc += accuracy(output, label)\n",
    "    test_acc = evaluate_accuracy(test_data, net)\n",
    "    print(\"Epoch %d. Loss: %f, Train acc %f, Test acc %f\" %(\n",
    "        epoch, train_loss/len(train_data), train_acc/len(train_data), test_acc))"
   ]
  },
  {
   "cell_type": "code",
   "execution_count": 21,
   "metadata": {},
   "outputs": [],
   "source": [
    "nd.Activation?"
   ]
  },
  {
   "cell_type": "code",
   "execution_count": null,
   "metadata": {},
   "outputs": [],
   "source": []
  }
 ],
 "metadata": {
  "kernelspec": {
   "display_name": "Python 3",
   "language": "python",
   "name": "python3"
  },
  "language_info": {
   "codemirror_mode": {
    "name": "ipython",
    "version": 3
   },
   "file_extension": ".py",
   "mimetype": "text/x-python",
   "name": "python",
   "nbconvert_exporter": "python",
   "pygments_lexer": "ipython3",
   "version": "3.6.5"
  }
 },
 "nbformat": 4,
 "nbformat_minor": 2
}
