{
 "cells": [
  {
   "cell_type": "markdown",
   "metadata": {},
   "source": [
    "# 线性回归的从零开始实现"
   ]
  },
  {
   "cell_type": "markdown",
   "metadata": {},
   "source": [
    "### 1. 生成数据集"
   ]
  },
  {
   "cell_type": "code",
   "execution_count": 1,
   "metadata": {},
   "outputs": [],
   "source": [
    "from mxnet import nd\n",
    "from mxnet import autograd as ag"
   ]
  },
  {
   "cell_type": "code",
   "execution_count": 2,
   "metadata": {},
   "outputs": [],
   "source": [
    "num_inputs = 2\n",
    "num_examples = 1001\n",
    "batch_size = 10\n",
    "true_w = [2, -3.4]\n",
    "true_b = 4.2\n",
    "x = nd.random_normal(0, 1, shape=(num_examples, num_inputs))\n",
    "y = x[:,0] * true_w[0] + x[:, 1] * true_w[1] + true_b \n",
    "y = y + 0.01*nd.random_normal(shape=y.shape)"
   ]
  },
  {
   "cell_type": "markdown",
   "metadata": {},
   "source": [
    "## 2. 读取数据"
   ]
  },
  {
   "cell_type": "code",
   "execution_count": 3,
   "metadata": {},
   "outputs": [],
   "source": [
    "import random\n",
    "def data_loader(data, label, batch_size):\n",
    "    index = nd.arange(len(data))\n",
    "    random.shuffle(index)\n",
    "    for i in range(0, len(index),batch_size):\n",
    "        j = nd.array(index[i: min(i + batch_size, num_examples)])\n",
    "        yield data.take(j), label.take(j)"
   ]
  },
  {
   "cell_type": "markdown",
   "metadata": {},
   "source": [
    "### 3. 初始化模型参数"
   ]
  },
  {
   "cell_type": "code",
   "execution_count": 4,
   "metadata": {},
   "outputs": [],
   "source": [
    "w = nd.random_normal(shape=(num_inputs,1))\n",
    "b = nd.zeros(1)\n",
    "params = [w, b]\n",
    "for param in params:\n",
    "    param.attach_grad()"
   ]
  },
  {
   "cell_type": "markdown",
   "metadata": {},
   "source": [
    "### 4.定义模型"
   ]
  },
  {
   "cell_type": "code",
   "execution_count": 5,
   "metadata": {},
   "outputs": [],
   "source": [
    "def linreg(x):\n",
    "    return nd.dot(x, w) + b"
   ]
  },
  {
   "cell_type": "markdown",
   "metadata": {},
   "source": [
    "### 5.损失函数"
   ]
  },
  {
   "cell_type": "code",
   "execution_count": 6,
   "metadata": {},
   "outputs": [],
   "source": [
    "def L2_loss(y_hat, y):\n",
    "    return 0.5 *(y_hat - y.reshape(y_hat.shape))**2"
   ]
  },
  {
   "cell_type": "markdown",
   "metadata": {},
   "source": [
    "### 6.定义优化算法"
   ]
  },
  {
   "cell_type": "code",
   "execution_count": 7,
   "metadata": {},
   "outputs": [],
   "source": [
    "def sgd(params, lr, batch_size):\n",
    "    for param in params:\n",
    "        param[:] = param - lr /batch_size* param.grad"
   ]
  },
  {
   "cell_type": "markdown",
   "metadata": {},
   "source": [
    "###  7. 训练模型"
   ]
  },
  {
   "cell_type": "code",
   "execution_count": 8,
   "metadata": {},
   "outputs": [
    {
     "name": "stdout",
     "output_type": "stream",
     "text": [
      "Epoch 0, Loss: 4.889596\n",
      "Epoch 1, Loss: 0.638083\n",
      "Epoch 2, Loss: 0.076978\n"
     ]
    }
   ],
   "source": [
    "num_epochs = 3\n",
    "lr = 0.01\n",
    "for epoch in range(num_epochs):\n",
    "    total_loss = 0.\n",
    "    for data, label in data_loader(x, y, batch_size):\n",
    "        with ag.record():\n",
    "            output = linreg(data)\n",
    "            loss = L2_loss(output, label)\n",
    "        loss.backward()\n",
    "        sgd(params, lr, batch_size)\n",
    "        total_loss += loss.sum().asscalar()\n",
    "    print(\"Epoch %d, Loss: %f\" %(epoch, total_loss/num_examples))"
   ]
  },
  {
   "cell_type": "code",
   "execution_count": 9,
   "metadata": {},
   "outputs": [
    {
     "data": {
      "text/plain": [
       "[\n",
       " [[ 1.9625334]\n",
       "  [-3.3460512]]\n",
       " <NDArray 2x1 @cpu(0)>, \n",
       " [3.998853]\n",
       " <NDArray 1 @cpu(0)>]"
      ]
     },
     "execution_count": 9,
     "metadata": {},
     "output_type": "execute_result"
    }
   ],
   "source": [
    "params"
   ]
  },
  {
   "cell_type": "code",
   "execution_count": 10,
   "metadata": {},
   "outputs": [
    {
     "data": {
      "text/plain": [
       "[2, -3.4]"
      ]
     },
     "execution_count": 10,
     "metadata": {},
     "output_type": "execute_result"
    }
   ],
   "source": [
    "true_w"
   ]
  },
  {
   "cell_type": "markdown",
   "metadata": {},
   "source": [
    "## 小结\n",
    "\n",
    "* 可以看出，仅使用 NDArray 和`autograd`就可以很容易地实现一个模型。在接下来的章节中，我们会在此基础上描述更多深度学习模型，并介绍怎样使用更简洁的代码（例如下一节）来实现它们。\n",
    "\n",
    "\n",
    "## 练习\n",
    "\n",
    "* 为什么`squared_loss`函数中需要使用`reshape`函数?\n",
    "- 在ndarray中（10,1）和（10，）表达的不一样，一个是行向量，一个是列向量，如果不用reshape，将会返回（10,10）的矩阵，这不是我们想要的\n",
    "* 尝试使用不同的学习率，观察损失函数值的下降快慢。\n",
    "* 如果样本个数不能被批量大小整除，`data_iter`函数的行为会有什么变化？\n",
    "- data_iter 中去数据时用到 min(i + batch_size, num_examples),如果最后一批不能被整除将用剩下的数据，而不是整个batch_size\n",
    "- `sgd`梯度下降中 lr之所以要除以batch_size是因为消除batch_size对学习率的影响；如果对$y=w * x$求导，x样本是一千个1，如果batch_size=1000,那么w.grad为1000，batch_size=100,w.grad=100,batch_size=1,w.grad=1,所以说要除以batch_size，消除它对求导的影响。如果不除以batch_size,如果batch_size=10000或者更大，结果可能直接不收敛，需要调很小的lr；虽然平时不会设置这么大的batch_size\n",
    "\n",
    "\n",
    "## 扫码直达[讨论区](https://discuss.gluon.ai/t/topic/743)"
   ]
  },
  {
   "cell_type": "markdown",
   "metadata": {},
   "source": [
    "# Gluon 版本"
   ]
  },
  {
   "cell_type": "code",
   "execution_count": 11,
   "metadata": {},
   "outputs": [],
   "source": [
    "from mxnet import gluon"
   ]
  },
  {
   "cell_type": "markdown",
   "metadata": {},
   "source": [
    "使用和之前一样的数据集"
   ]
  },
  {
   "cell_type": "markdown",
   "metadata": {},
   "source": [
    "### 读取数据"
   ]
  },
  {
   "cell_type": "code",
   "execution_count": 12,
   "metadata": {},
   "outputs": [],
   "source": [
    "dataset = gluon.data.ArrayDataset(x, y)\n",
    "data_iter = gluon.data.DataLoader(dataset, batch_size=batch_size,shuffle=True)"
   ]
  },
  {
   "cell_type": "markdown",
   "metadata": {},
   "source": [
    "### 定义模型"
   ]
  },
  {
   "cell_type": "code",
   "execution_count": 13,
   "metadata": {},
   "outputs": [],
   "source": [
    "net = gluon.nn.Sequential()\n",
    "net.add(gluon.nn.Dense(1))\n",
    "net.initialize()"
   ]
  },
  {
   "cell_type": "markdown",
   "metadata": {},
   "source": [
    "### 损失函数"
   ]
  },
  {
   "cell_type": "code",
   "execution_count": 14,
   "metadata": {},
   "outputs": [],
   "source": [
    "L2Loss = gluon.loss.L2Loss()"
   ]
  },
  {
   "cell_type": "markdown",
   "metadata": {},
   "source": [
    "### 定义优化方法"
   ]
  },
  {
   "cell_type": "code",
   "execution_count": 15,
   "metadata": {
    "scrolled": false
   },
   "outputs": [],
   "source": [
    "trainer = gluon.Trainer(net.collect_params(), 'sgd', {'learning_rate':0.1})"
   ]
  },
  {
   "cell_type": "markdown",
   "metadata": {},
   "source": [
    "### 训练模型"
   ]
  },
  {
   "cell_type": "code",
   "execution_count": 16,
   "metadata": {},
   "outputs": [
    {
     "name": "stdout",
     "output_type": "stream",
     "text": [
      "Epoch 0, Loss: 0.874796\n",
      "Epoch 1, Loss: 0.000050\n",
      "Epoch 2, Loss: 0.000049\n",
      "Epoch 3, Loss: 0.000049\n",
      "Epoch 4, Loss: 0.000049\n"
     ]
    }
   ],
   "source": [
    "num_epochs = 5\n",
    "lr = 0.01\n",
    "batch_size = 10\n",
    "for epoch in range(num_epochs):\n",
    "    total_loss = 0.\n",
    "    for data, label in data_iter:\n",
    "        with ag.record():\n",
    "            output = net(data)\n",
    "            loss = L2Loss(output, label)\n",
    "        loss.backward()\n",
    "        trainer.step(batch_size)\n",
    "        total_loss += loss.sum().asscalar()\n",
    "    print(\"Epoch %d, Loss: %f\" %(epoch, total_loss/num_examples))"
   ]
  },
  {
   "cell_type": "markdown",
   "metadata": {},
   "source": [
    "gluon版本比scratch版本效果好的原因可能是，参数初始化时，gluon版可能设置了一个非常小的参数"
   ]
  }
 ],
 "metadata": {
  "kernelspec": {
   "display_name": "Python 3",
   "language": "python",
   "name": "python3"
  },
  "language_info": {
   "codemirror_mode": {
    "name": "ipython",
    "version": 3
   },
   "file_extension": ".py",
   "mimetype": "text/x-python",
   "name": "python",
   "nbconvert_exporter": "python",
   "pygments_lexer": "ipython3",
   "version": "3.6.5"
  }
 },
 "nbformat": 4,
 "nbformat_minor": 2
}
