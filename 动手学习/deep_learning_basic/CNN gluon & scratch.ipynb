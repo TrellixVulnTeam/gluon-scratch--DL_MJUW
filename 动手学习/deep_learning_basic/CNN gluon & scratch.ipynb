{
 "cells": [
  {
   "cell_type": "code",
   "execution_count": 1,
   "metadata": {},
   "outputs": [],
   "source": [
    "from mxnet import autograd as ag \n",
    "from mxnet import nd\n",
    "from mxnet import gluon"
   ]
  },
  {
   "cell_type": "markdown",
   "metadata": {},
   "source": [
    "# 卷积神经网络"
   ]
  },
  {
   "cell_type": "markdown",
   "metadata": {},
   "source": [
    "![no_padding_no_strides](../image/no_padding_no_strides.gif)\n",
    "[图片来源](https://github.com/vdumoulin/conv_arithmetic/blob/master/README.md)"
   ]
  },
  {
   "cell_type": "markdown",
   "metadata": {},
   "source": [
    "- 权重w的格式 : w --> output_filter * input_filter * height * width\n",
    "- 数据data的格式：data --> batch_size * channels * height * width\n",
    "- 数据的通道channels需和w的input_filter保持一致"
   ]
  },
  {
   "cell_type": "markdown",
   "metadata": {},
   "source": [
    "当数据为单通道时"
   ]
  },
  {
   "cell_type": "code",
   "execution_count": 2,
   "metadata": {},
   "outputs": [
    {
     "name": "stdout",
     "output_type": "stream",
     "text": [
      " data: \n",
      "  \n",
      "[[[[0. 1. 2.]\n",
      "   [3. 4. 5.]\n",
      "   [6. 7. 8.]]]]\n",
      "<NDArray 1x1x3x3 @cpu(0)> \n",
      "\n",
      " w:  \n",
      "[[[[0. 1.]\n",
      "   [2. 3.]]]]\n",
      "<NDArray 1x1x2x2 @cpu(0)> \n",
      "\n",
      " bias:  \n",
      "[1.]\n",
      "<NDArray 1 @cpu(0)> \n",
      "\n",
      " out: \n",
      "[[[[ 1.  9.]\n",
      "   [22. 44.]]]]\n",
      "<NDArray 1x1x2x2 @cpu(0)>\n"
     ]
    }
   ],
   "source": [
    "w = nd.arange(4).reshape((1,1,2,2))\n",
    "b = nd.array([1])\n",
    "data = nd.arange(9).reshape((1,1,3,3))\n",
    "out = nd.Convolution(data, w, b, kernel=w.shape[2:], num_filter=w.shape[0], stride=(2,2), pad=(1,1))\n",
    "print(\" data: \\n\" +' ', data, \"\\n\\n w: \", w, \"\\n\\n bias: \", b, \"\\n\\n out:\", out)"
   ]
  },
  {
   "cell_type": "markdown",
   "metadata": {},
   "source": [
    "我们可以控制如何移动窗口，和在边缘的时候如何填充窗口。下图演示了 strider=1 和 padding =2\n",
    "![arbitrary_padding_no_strides](../image/arbitrary_padding_no_strides.gif)"
   ]
  },
  {
   "cell_type": "code",
   "execution_count": 3,
   "metadata": {},
   "outputs": [
    {
     "name": "stdout",
     "output_type": "stream",
     "text": [
      " data: \n",
      "  \n",
      "[[[[ 0.  1.  2.]\n",
      "   [ 3.  4.  5.]\n",
      "   [ 6.  7.  8.]]\n",
      "\n",
      "  [[ 9. 10. 11.]\n",
      "   [12. 13. 14.]\n",
      "   [15. 16. 17.]]]]\n",
      "<NDArray 1x2x3x3 @cpu(0)> \n",
      "\n",
      " w:  \n",
      "[[[[0. 1.]\n",
      "   [2. 3.]]\n",
      "\n",
      "  [[4. 5.]\n",
      "   [6. 7.]]]]\n",
      "<NDArray 1x2x2x2 @cpu(0)> \n",
      "\n",
      " bias:  \n",
      "[1.]\n",
      "<NDArray 1 @cpu(0)> \n",
      "\n",
      " out: \n",
      "[[[[269. 297.]\n",
      "   [353. 381.]]]]\n",
      "<NDArray 1x1x2x2 @cpu(0)>\n"
     ]
    }
   ],
   "source": [
    "w = nd.arange(8).reshape(1, 2, 2, 2)\n",
    "b = nd.array([1])\n",
    "data = nd.arange(18).reshape(1, 2, 3, 3)\n",
    "out = nd.Convolution(data, w, b, kernel=w.shape[2:], num_filter=w.shape[0])\n",
    "print(\" data: \\n\" +' ', data, \"\\n\\n w: \", w, \"\\n\\n bias: \", b, \"\\n\\n out:\", out)"
   ]
  },
  {
   "cell_type": "markdown",
   "metadata": {},
   "source": [
    "当数据有多个通道，输出也有需多个通道，那么权重会在每个通道上做卷积"
   ]
  },
  {
   "cell_type": "code",
   "execution_count": 4,
   "metadata": {},
   "outputs": [
    {
     "name": "stdout",
     "output_type": "stream",
     "text": [
      " input: \n",
      "[[[[ 0.  1.  2.]\n",
      "   [ 3.  4.  5.]\n",
      "   [ 6.  7.  8.]]\n",
      "\n",
      "  [[ 9. 10. 11.]\n",
      "   [12. 13. 14.]\n",
      "   [15. 16. 17.]]]]\n",
      "<NDArray 1x2x3x3 @cpu(0)> \n",
      "\n",
      " weight: \n",
      "[[[[ 0.  1.]\n",
      "   [ 2.  3.]]\n",
      "\n",
      "  [[ 4.  5.]\n",
      "   [ 6.  7.]]]\n",
      "\n",
      "\n",
      " [[[ 8.  9.]\n",
      "   [10. 11.]]\n",
      "\n",
      "  [[12. 13.]\n",
      "   [14. 15.]]]]\n",
      "<NDArray 2x2x2x2 @cpu(0)> \n",
      "\n",
      " bias: \n",
      "[1. 2.]\n",
      "<NDArray 2 @cpu(0)> \n",
      "\n",
      " output: \n",
      "[[[[ 269.  297.]\n",
      "   [ 353.  381.]]\n",
      "\n",
      "  [[ 686.  778.]\n",
      "   [ 962. 1054.]]]]\n",
      "<NDArray 1x2x2x2 @cpu(0)>\n"
     ]
    }
   ],
   "source": [
    "w = nd.arange(16).reshape((2,2,2,2))\n",
    "data = nd.arange(18).reshape((1,2,3,3))\n",
    "b = nd.array([1,2])\n",
    "out = nd.Convolution(data, w, b, kernel=w.shape[2:], num_filter=w.shape[0])\n",
    "print(' input:', data, '\\n\\n weight:', w, '\\n\\n bias:', b, '\\n\\n output:',out)"
   ]
  },
  {
   "cell_type": "markdown",
   "metadata": {},
   "source": [
    "# 池化层\n",
    "因为卷积层每次作用在一个窗口， 它对位置很敏感。池化层能够很好的缓解这个问题。它跟卷积类似，每次看一个小窗口， 然后选出窗口里面最大的元素，或者平均元素作为输出。"
   ]
  },
  {
   "cell_type": "code",
   "execution_count": 5,
   "metadata": {},
   "outputs": [
    {
     "name": "stdout",
     "output_type": "stream",
     "text": [
      " max: \n",
      "[[[[4. 5.]\n",
      "   [7. 8.]]]]\n",
      "<NDArray 1x1x2x2 @cpu(0)> \n",
      " avg:  \n",
      "[[[[2. 3.]\n",
      "   [5. 6.]]]]\n",
      "<NDArray 1x1x2x2 @cpu(0)>\n"
     ]
    }
   ],
   "source": [
    "data = nd.arange(9).reshape((1, 1, 3, 3))\n",
    "                            \n",
    "max_pool = nd.Pooling(data, pool_type='max', kernel=(2,2))\n",
    "avg_pool = nd.Pooling(data, pool_type='avg', kernel=(2,2))\n",
    "print(' max:', max_pool, '\\n avg: ', avg_pool)                            "
   ]
  },
  {
   "cell_type": "markdown",
   "metadata": {},
   "source": [
    "### CNN 从零开始版（Fashion Mnist）"
   ]
  },
  {
   "cell_type": "code",
   "execution_count": 6,
   "metadata": {},
   "outputs": [],
   "source": [
    "batch_size = 256\n",
    "weight_scale = 0.01"
   ]
  },
  {
   "cell_type": "markdown",
   "metadata": {},
   "source": [
    "### 读取数据"
   ]
  },
  {
   "cell_type": "code",
   "execution_count": 7,
   "metadata": {},
   "outputs": [],
   "source": [
    "def load_data_fashion_mnist(batch_size):\n",
    "    \"\"\"Download the fashion mnist dataset and then load into memory.\"\"\"\n",
    "    transformer = [gluon.data.vision.transforms.ToTensor()]\n",
    "    transformer = gluon.data.vision.transforms.Compose(transformer)\n",
    "\n",
    "    mnist_train = gluon.data.vision.FashionMNIST(train=True)\n",
    "    mnist_test = gluon.data.vision.FashionMNIST(train=False)\n",
    "    num_workers = 4\n",
    "\n",
    "    train_iter = gluon.data.DataLoader(mnist_train.transform_first(transformer),\n",
    "                                  batch_size, shuffle=True,\n",
    "                                  num_workers=num_workers)\n",
    "    test_iter = gluon.data.DataLoader(mnist_test.transform_first(transformer),\n",
    "                                 batch_size, shuffle=False,\n",
    "                                 num_workers=num_workers)\n",
    "    return train_iter, test_iter"
   ]
  },
  {
   "cell_type": "code",
   "execution_count": 8,
   "metadata": {},
   "outputs": [],
   "source": [
    "train_dataset, test_dataset = load_data_fashion_mnist(batch_size)"
   ]
  },
  {
   "cell_type": "markdown",
   "metadata": {},
   "source": [
    "### 定义参数"
   ]
  },
  {
   "cell_type": "code",
   "execution_count": 9,
   "metadata": {},
   "outputs": [],
   "source": [
    "#W1 输入通道 1， 输出通道 20\n",
    "W1 = nd.random_normal(shape=(20, 1, 5, 5), scale=weight_scale)\n",
    "b1 = nd.zeros(W1.shape[0])\n",
    "\n",
    "# W2 输入通道20， 输出通道为50\n",
    "W2 = nd.random_normal(shape=(50, 20, 3, 3), scale = weight_scale)\n",
    "b2 = nd.zeros(W2.shape[0])\n",
    "\n",
    "# 输入 1250 ， 输出 128\n",
    "W3 = nd.random_normal(shape=(1250, 128),scale=weight_scale)\n",
    "b3 = nd.zeros(W3.shape[1])\n",
    "\n",
    "# 输入128， 输出 10\n",
    "W4 = nd.random_normal(shape=(128, 10), scale=weight_scale)\n",
    "b4 = nd.zeros(W4.shape[1])\n",
    "\n",
    "params =[W1, b1, W2, b2, W3, b3, W4, b4]\n",
    "for param in params:\n",
    "    param.attach_grad()"
   ]
  },
  {
   "cell_type": "markdown",
   "metadata": {},
   "source": [
    "我们使用的模型是`LeNet`,两个卷积层，两个全连接层。    \n",
    "卷积模块通常是“卷积层-激活层-池化层”，然后输出为2D矩阵交给后面的全连接层"
   ]
  },
  {
   "cell_type": "code",
   "execution_count": 10,
   "metadata": {},
   "outputs": [],
   "source": [
    "def net(X, verbose=False):\n",
    "    # 第一层卷积\n",
    "    h1_conv = nd.Convolution(X, W1, b1, kernel=W1.shape[2:], num_filter=W1.shape[0])\n",
    "    h1_activation = nd.relu(h1_conv)\n",
    "    h1 = nd.Pooling(h1_activation, pool_type=\"max\", kernel=(2,2), stride=(2,2))\n",
    "    \n",
    "    # 第二层卷积\n",
    "    h2_conv = nd.Convolution(h1, W2, b2, kernel=W2.shape[2:], num_filter=W2.shape[0])\n",
    "    h2_activation = nd.relu(h2_conv)\n",
    "    h2 = nd.Pooling(h2_activation, pool_type=\"max\", kernel=(2,2), stride=(2,2))\n",
    "    h2 = nd.flatten(h2)\n",
    "    # 第一层全连接\n",
    "    h3_linear = nd.dot(h2, W3) + b3\n",
    "    h3 = nd.relu(h3_linear)\n",
    "    \n",
    "    #第二层全连接\n",
    "    h4_linear = nd.dot(h3, W4) + b4\n",
    "    if verbose:\n",
    "        print(\" 1st conv block:\", h1.shape)\n",
    "        print(\" 2nd conv block:\", h2.shape)\n",
    "        print(\" 1st dense:\", h3.shape)\n",
    "        print(\" 2nd dense:\", h4_linear.shape)\n",
    "        print(\" output:\", h4_linear.shape)\n",
    "    return h4_linear"
   ]
  },
  {
   "cell_type": "code",
   "execution_count": 11,
   "metadata": {
    "scrolled": true
   },
   "outputs": [
    {
     "name": "stdout",
     "output_type": "stream",
     "text": [
      " 1st conv block: (256, 20, 12, 12)\n",
      " 2nd conv block: (256, 1250)\n",
      " 1st dense: (256, 128)\n",
      " 2nd dense: (256, 10)\n",
      " output: (256, 10)\n"
     ]
    }
   ],
   "source": [
    "for data, _ in train_dataset:\n",
    "    net(data, verbose=True)\n",
    "    break"
   ]
  },
  {
   "cell_type": "markdown",
   "metadata": {},
   "source": [
    "### 训练模型"
   ]
  },
  {
   "cell_type": "code",
   "execution_count": 12,
   "metadata": {},
   "outputs": [],
   "source": [
    "\n",
    "def accuracy(output, label):\n",
    "    return nd.mean(output.argmax(axis=1)==label.astype('float32')).asscalar()\n",
    "\n",
    "def evaluate_accuracy(data_iterator, net):\n",
    "    acc = 0.\n",
    "    for data, label in data_iterator:\n",
    "        output = net(data)\n",
    "        acc += accuracy(output, label)\n",
    "    return acc /len(data_iterator)\n",
    "\n",
    "def SGD(params, lr):\n",
    "    for param in params:\n",
    "        param[:] = param - lr * param.grad\n",
    "        \n",
    "softmax_cross_entropy = gluon.loss.SoftmaxCrossEntropyLoss()"
   ]
  },
  {
   "cell_type": "code",
   "execution_count": 13,
   "metadata": {},
   "outputs": [
    {
     "name": "stdout",
     "output_type": "stream",
     "text": [
      " Epoch 0. Loss: 2.301700, Train acc 0.112871, Test acc 0.345020\n",
      " Epoch 1. Loss: 1.299875, Train acc 0.511475, Test acc 0.717578\n",
      " Epoch 2. Loss: 0.702988, Train acc 0.725770, Test acc 0.771484\n",
      " Epoch 3. Loss: 0.578226, Train acc 0.775759, Test acc 0.807324\n",
      " Epoch 4. Loss: 0.514234, Train acc 0.803330, Test acc 0.819824\n",
      " Costs 204.48 seconds\n"
     ]
    }
   ],
   "source": [
    "num_epochs = 5\n",
    "learning_rate = 0.2\n",
    "\n",
    "import time\n",
    "start = time.time()\n",
    "for epoch in range(num_epochs):\n",
    "    train_loss = 0.\n",
    "    train_acc = 0.\n",
    "    for data, label in train_dataset:\n",
    "        with ag.record():\n",
    "            output = net(data)\n",
    "            loss = softmax_cross_entropy(output, label)\n",
    "        loss.backward()\n",
    "        SGD(params, learning_rate/batch_size)\n",
    "        \n",
    "        train_loss += loss.mean().asscalar()\n",
    "        train_acc += accuracy(output, label)\n",
    "    test_acc = evaluate_accuracy(test_dataset, net)\n",
    "    print(\" Epoch %d. Loss: %f, Train acc %f, Test acc %f\" %(\n",
    "        epoch, train_loss/len(train_dataset), train_acc/len(train_dataset), test_acc))\n",
    "end = time.time()\n",
    "print(\" Costs %.2f seconds\" % (end-start))"
   ]
  },
  {
   "cell_type": "markdown",
   "metadata": {},
   "source": [
    "### CNN-Gluon版"
   ]
  },
  {
   "cell_type": "markdown",
   "metadata": {},
   "source": [
    "gluon定义网络特别方便，只需要知道输出层，不需要知道输入是多少"
   ]
  },
  {
   "cell_type": "code",
   "execution_count": 53,
   "metadata": {},
   "outputs": [],
   "source": [
    "from mxnet.gluon import nn\n",
    "net = nn.Sequential()\n",
    "with net.name_scope():\n",
    "    net.add(nn.Conv2D(channels=50, kernel_size=5, activation='relu'))\n",
    "    net.add(nn.MaxPool2D(pool_size=2, strides=2))\n",
    "    net.add(nn.Conv2D(channels=20, kernel_size=3, activation='relu'))\n",
    "    net.add(nn.MaxPool2D(pool_size=2, strides=2))\n",
    "    net.add(nn.Flatten())\n",
    "    net.add(nn.Dense(128, activation='relu'))\n",
    "    net.add(nn.Dense(10))\n",
    "net.initialize()"
   ]
  },
  {
   "cell_type": "markdown",
   "metadata": {},
   "source": [
    "### 训练和之前一样"
   ]
  },
  {
   "cell_type": "code",
   "execution_count": 54,
   "metadata": {
    "scrolled": true
   },
   "outputs": [
    {
     "name": "stdout",
     "output_type": "stream",
     "text": [
      " Epoch 0. Loss: 1.093293, Train acc 0.590215, Test acc 0.768066\n",
      " Epoch 1. Loss: 0.552090, Train acc 0.786846, Test acc 0.828418\n",
      " Epoch 2. Loss: 0.458166, Train acc 0.829344, Test acc 0.839746\n",
      " Epoch 3. Loss: 0.406198, Train acc 0.850997, Test acc 0.859082\n",
      " Epoch 4. Loss: 0.373150, Train acc 0.863132, Test acc 0.876855\n",
      " Costs 282.43 seconds\n"
     ]
    }
   ],
   "source": [
    "num_epochs = 5\n",
    "learning_rate = 0.2\n",
    "\n",
    "trainer = gluon.Trainer(net.collect_params(), 'sgd', {'learning_rate':learning_rate})\n",
    "import time\n",
    "start = time.time()\n",
    "for epoch in range(num_epochs):\n",
    "    train_loss = 0.\n",
    "    train_acc = 0.\n",
    "    for data, label in train_dataset:\n",
    "        with ag.record():\n",
    "            output = net(data)\n",
    "            loss = softmax_cross_entropy(output, label)\n",
    "        loss.backward()\n",
    "        trainer.step(batch_size)\n",
    "        \n",
    "        train_loss += loss.mean().asscalar()\n",
    "        train_acc += accuracy(output, label)\n",
    "    test_acc = evaluate_accuracy(test_dataset, net)\n",
    "    print(\" Epoch %d. Loss: %f, Train acc %f, Test acc %f\" %(\n",
    "        epoch, train_loss/len(train_dataset), train_acc/len(train_dataset), test_acc))\n",
    "end = time.time()\n",
    "print(\" Costs %.2f seconds\" % (end-start))"
   ]
  },
  {
   "cell_type": "markdown",
   "metadata": {},
   "source": [
    " Epoch 0. Loss: 1.057727, Train acc 0.600310, Test acc 0.783105   \n",
    " Epoch 1. Loss: 0.534595, Train acc 0.794138, Test acc 0.818262    \n",
    " Epoch 2. Loss: 0.448110, Train acc 0.833411, Test acc 0.844531    \n",
    " Epoch 3. Loss: 0.398017, Train acc 0.855264, Test acc 0.868359   \n",
    " Epoch 4. Loss: 0.365673, Train acc 0.864672, Test acc 0.862305   \n",
    " Costs 196.02 seconds"
   ]
  },
  {
   "cell_type": "code",
   "execution_count": 16,
   "metadata": {
    "scrolled": true
   },
   "outputs": [
    {
     "data": {
      "image/png": "[encoded data removed]",
      "text/plain": [
       "<Figure size 1080x1080 with 13 Axes>"
      ]
     },
     "metadata": {},
     "output_type": "display_data"
    }
   ],
   "source": [
    "import matplotlib.pyplot as plt\n",
    "def show_images(images):\n",
    "    n = images.shape[0]\n",
    "    _, figs = plt.subplots(1, n, figsize=(15,15))\n",
    "    for i in range(n):\n",
    "        figs[i].imshow(images[i].reshape((28,28)).asnumpy())\n",
    "        figs[i].axes.get_xaxis().set_visible(False)\n",
    "        figs[i].axes.get_yaxis().set_visible(False)\n",
    "    plt.show()\n",
    "mnist_train = gluon.data.vision.FashionMNIST(train=True)\n",
    "data, label = mnist_train[0:13]\n",
    "show_images(data)"
   ]
  },
  {
   "cell_type": "markdown",
   "metadata": {},
   "source": [
    "Note:\n",
    "- Gluon的数据集FashionMnist的默认格式为（num_examples, height, width, channel), 而我们使用时数据的格式应该为\n",
    "（nume_examples, channel, height, width),所以可以通过gluon自带的函数进行转换，具体看`load_data_fashion_mnist`函数里的用法\n",
    "- `help(gdata.vision.transforms.ToTensor)` ToTensor函数会把`(H x W x C)`的形状转换为 `(C x H x W )`\n",
    "- `gluon.data.ArrayDataset.transform_first` transform_first这个函数特别有用，比如读取了train_mnist，而train_mnist其实是个元组，包含data和label，所以这个transform_first，就只对你的第一个数据data进行变换，label不变\n"
   ]
  },
  {
   "cell_type": "markdown",
   "metadata": {},
   "source": [
    "思考题 ：\n",
    "1. 试试修改改卷积层设定， `filter`数量，`kernel`大小，有什么变化\n",
    "    - kernel大小在变换之后，基本没有很大的差别，效果基本一致。\n",
    "2. 试试把池化层从`max`改成`avg`,有什么变化\n",
    "    - 首先使用两个`avg`池化会比两个`max`效果差，使用一个`max`和一个`avg`效果会在他们之间。5个迭代，‘max'在85%左右，’avg'在82%左右\n",
    "    - 其次讲讲Polling的作用\n",
    "        - 卷积神经网络中的卷积层是对图像的一个邻域进行卷积得到图像的邻域特征，亚采样层就是使用pooling技术将小邻域内的特征点整合得到新的特征。pooling确实起到了整合特征的作用。\n",
    "        - pooling的结果是使得特征减少，参数减少，但pooling的目的并不仅在于此。pooling目的是为了保持某种不变性（旋转、平移、伸缩等），常用的有mean-pooling，max-pooling和Stochastic-pooling三种。 \n",
    "        - 特征提取的误差主要来自两个方面：（1）邻域大小受限造成的估计值方差增大；（2）卷积层参数误差造成估计均值的偏移。一般来说，mean-pooling能减小第一种误差，更多的保留图像的背景信息，max-pooling能减小第二种误差，更多的保留纹理信息。\n",
    "    - 所以说`max polling`更多的是提取纹理，细节信息；而`avg`更多的提取背景信息。而我们这边的数据集的图片背景几乎都一样，可以说是没有背景，只有物品。所以这时候两个`max`层效果肯定会好一些。\n",
    "    \n",
    "3. 加了卷积层比前面的多层感知机慢了很多，尝试计算下两个模型分别需要多少浮点计算 （ n x m 和 m x k 的矩阵乘法需要浮点运算 2nmk次）"
   ]
  },
  {
   "cell_type": "code",
   "execution_count": 63,
   "metadata": {},
   "outputs": [
    {
     "name": "stdout",
     "output_type": "stream",
     "text": [
      "  6.853808\n"
     ]
    }
   ],
   "source": [
    "s = time.time()\n",
    "for i in range(10000*10000):\n",
    "    a = 8.3 / 8.3\n",
    "e = time.time()\n",
    "print('  %f' % (e-s))"
   ]
  },
  {
   "cell_type": "markdown",
   "metadata": {},
   "source": [
    "1yi 6.566098"
   ]
  }
 ],
 "metadata": {
  "kernelspec": {
   "display_name": "Python 3",
   "language": "python",
   "name": "python3"
  },
  "language_info": {
   "codemirror_mode": {
    "name": "ipython",
    "version": 3
   },
   "file_extension": ".py",
   "mimetype": "text/x-python",
   "name": "python",
   "nbconvert_exporter": "python",
   "pygments_lexer": "ipython3",
   "version": "3.6.5"
  }
 },
 "nbformat": 4,
 "nbformat_minor": 2
}
