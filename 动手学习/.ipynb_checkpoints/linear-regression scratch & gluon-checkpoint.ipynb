{
 "cells": [
  {
   "cell_type": "markdown",
   "metadata": {},
   "source": [
    "# 线性回归的从零开始实现"
   ]
  },
  {
   "cell_type": "markdown",
   "metadata": {},
   "source": [
    "### 1. 生成数据集"
   ]
  },
  {
   "cell_type": "code",
   "execution_count": 1,
   "metadata": {},
   "outputs": [
    {
     "name": "stderr",
     "output_type": "stream",
     "text": [
      "E:\\anaconda\\lib\\site-packages\\h5py\\__init__.py:36: FutureWarning: Conversion of the second argument of issubdtype from `float` to `np.floating` is deprecated. In future, it will be treated as `np.float64 == np.dtype(float).type`.\n",
      "  from ._conv import register_converters as _register_converters\n"
     ]
    }
   ],
   "source": [
    "from mxnet import nd\n",
    "from mxnet import autograd as ag"
   ]
  },
  {
   "cell_type": "code",
   "execution_count": 127,
   "metadata": {},
   "outputs": [],
   "source": [
    "num_inputs = 2\n",
    "num_examples = 1001\n",
    "batch_size = 10\n",
    "true_w = [2, -3.4]\n",
    "true_b = 4.2\n",
    "x = nd.random_normal(0, 1, shape=(num_examples, num_inputs))\n",
    "y = x[:,0] * true_w[0] + x[:, 1] * true_w[1] + true_b \n",
    "y = y + 0.01*nd.random_normal(shape=y.shape)"
   ]
  },
  {
   "cell_type": "markdown",
   "metadata": {},
   "source": [
    "## 2. 读取数据"
   ]
  },
  {
   "cell_type": "code",
   "execution_count": 128,
   "metadata": {},
   "outputs": [],
   "source": [
    "import random\n",
    "def data_loader(data, label, batch_size):\n",
    "    index = nd.arange(len(data))\n",
    "    random.shuffle(index)\n",
    "    for i in range(0, len(index),batch_size):\n",
    "        j = nd.array(index[i: min(i + batch_size, num_examples)])\n",
    "        yield data.take(j), label.take(j)"
   ]
  },
  {
   "cell_type": "markdown",
   "metadata": {},
   "source": [
    "### 3. 初始化模型参数"
   ]
  },
  {
   "cell_type": "code",
   "execution_count": 129,
   "metadata": {},
   "outputs": [],
   "source": [
    "w = 0.01 * nd.random_normal(shape=(num_inputs,1))\n",
    "b = nd.zeros(1)\n",
    "params = [w, b]\n",
    "for param in params:\n",
    "    param.attach_grad()"
   ]
  },
  {
   "cell_type": "markdown",
   "metadata": {},
   "source": [
    "### 4.定义模型"
   ]
  },
  {
   "cell_type": "code",
   "execution_count": 130,
   "metadata": {},
   "outputs": [],
   "source": [
    "def linreg(x):\n",
    "    return nd.dot(x, w) + b"
   ]
  },
  {
   "cell_type": "markdown",
   "metadata": {},
   "source": [
    "### 5.损失函数"
   ]
  },
  {
   "cell_type": "code",
   "execution_count": 131,
   "metadata": {},
   "outputs": [],
   "source": [
    "def L2_loss(y_hat, y):\n",
    "    return 0.5 *(y_hat - y.reshape(y_hat.shape))**2"
   ]
  },
  {
   "cell_type": "markdown",
   "metadata": {},
   "source": [
    "### 6.定义优化算法"
   ]
  },
  {
   "cell_type": "code",
   "execution_count": 132,
   "metadata": {},
   "outputs": [],
   "source": [
    "def sgd(params, lr, batch_size):\n",
    "    for param in params:\n",
    "        param[:] = param - lr * param.grad / batch_size"
   ]
  },
  {
   "cell_type": "markdown",
   "metadata": {},
   "source": [
    "###  7. 训练模型"
   ]
  },
  {
   "cell_type": "code",
   "execution_count": 133,
   "metadata": {
    "scrolled": true
   },
   "outputs": [
    {
     "name": "stdout",
     "output_type": "stream",
     "text": [
      "Epoch 0, Loss: 2.802664\n",
      "Epoch 1, Loss: 0.016831\n",
      "Epoch 2, Loss: 0.000115\n",
      "Epoch 3, Loss: 0.000046\n",
      "Epoch 4, Loss: 0.000049\n"
     ]
    }
   ],
   "source": [
    "num_epochs = 5\n",
    "lr = 0.03\n",
    "batch_size = 10\n",
    "for epoch in range(num_epochs):\n",
    "    total_loss = 0.\n",
    "    for data, label in data_loader(x, y, batch_size):\n",
    "        with autograd.record():\n",
    "            output = linreg(data)\n",
    "            loss = L2_loss(output, label)\n",
    "        loss.backward()\n",
    "        sgd(params, lr, batch_size)\n",
    "        total_loss += loss.sum().asscalar()\n",
    "    print(\"Epoch %d, Loss: %f\" %(epoch, total_loss/num_examples))"
   ]
  },
  {
   "cell_type": "code",
   "execution_count": 134,
   "metadata": {},
   "outputs": [
    {
     "data": {
      "text/plain": [
       "[\n",
       " [[ 1.9995065]\n",
       "  [-3.3994174]]\n",
       " <NDArray 2x1 @cpu(0)>, \n",
       " [4.1994467]\n",
       " <NDArray 1 @cpu(0)>]"
      ]
     },
     "execution_count": 134,
     "metadata": {},
     "output_type": "execute_result"
    }
   ],
   "source": [
    "params"
   ]
  },
  {
   "cell_type": "code",
   "execution_count": 135,
   "metadata": {},
   "outputs": [
    {
     "data": {
      "text/plain": [
       "[2, -3.4]"
      ]
     },
     "execution_count": 135,
     "metadata": {},
     "output_type": "execute_result"
    }
   ],
   "source": [
    "true_w"
   ]
  },
  {
   "cell_type": "code",
   "execution_count": 136,
   "metadata": {},
   "outputs": [
    {
     "data": {
      "text/plain": [
       "4.2"
      ]
     },
     "execution_count": 136,
     "metadata": {},
     "output_type": "execute_result"
    }
   ],
   "source": [
    "true_b"
   ]
  },
  {
   "cell_type": "markdown",
   "metadata": {},
   "source": [
    "## 小结\n",
    "\n",
    "* 可以看出，仅使用 NDArray 和`autograd`就可以很容易地实现一个模型。在接下来的章节中，我们会在此基础上描述更多深度学习模型，并介绍怎样使用更简洁的代码（例如下一节）来实现它们。\n",
    "\n",
    "\n",
    "## 练习\n",
    "\n",
    "* 为什么`squared_loss`函数中需要使用`reshape`函数?\n",
    "- 在ndarray中（10,1）和（10，）表达的不一样，一个是行向量，一个是列向量，如果不用reshape，将会返回（10,10）的矩阵，这不是我们想要的\n",
    "* 尝试使用不同的学习率，观察损失函数值的下降快慢。\n",
    "* 如果样本个数不能被批量大小整除，`data_iter`函数的行为会有什么变化？\n",
    "- data_iter 中去数据时用到 min(i + batch_size, num_examples),如果最后一批不能被整除将用剩下的数据，而不是整个batch_size\n",
    "\n",
    "\n",
    "## 扫码直达[讨论区](https://discuss.gluon.ai/t/topic/743)\n",
    "\n",
    "![](../img/qr_linear-regression-scratch.svg)"
   ]
  },
  {
   "cell_type": "markdown",
   "metadata": {},
   "source": [
    "# Gluon 版本"
   ]
  },
  {
   "cell_type": "code",
   "execution_count": 137,
   "metadata": {},
   "outputs": [],
   "source": [
    "from mxnet import gluon"
   ]
  },
  {
   "cell_type": "markdown",
   "metadata": {},
   "source": [
    "使用和之前一样的数据集"
   ]
  },
  {
   "cell_type": "markdown",
   "metadata": {},
   "source": [
    "### 读取数据"
   ]
  },
  {
   "cell_type": "code",
   "execution_count": 145,
   "metadata": {},
   "outputs": [],
   "source": [
    "dataset = gluon.data.ArrayDataset(x, y)\n",
    "data_iter = gluon.data.DataLoader(dataset, batch_size=batch_size,shuffle=True)"
   ]
  },
  {
   "cell_type": "markdown",
   "metadata": {},
   "source": [
    "### 定义模型"
   ]
  },
  {
   "cell_type": "code",
   "execution_count": 146,
   "metadata": {},
   "outputs": [],
   "source": [
    "net = gluon.nn.Sequential()\n",
    "net.add(gluon.nn.Dense(1))\n",
    "net.initialize()"
   ]
  },
  {
   "cell_type": "markdown",
   "metadata": {},
   "source": [
    "### 损失函数"
   ]
  },
  {
   "cell_type": "code",
   "execution_count": 147,
   "metadata": {},
   "outputs": [],
   "source": [
    "L2Loss = gluon.loss.L2Loss()"
   ]
  },
  {
   "cell_type": "markdown",
   "metadata": {},
   "source": [
    "### 定义优化方法"
   ]
  },
  {
   "cell_type": "code",
   "execution_count": 148,
   "metadata": {},
   "outputs": [],
   "source": [
    "trainer = gluon.Trainer(net.collect_params(), 'sgd', {'learning_rate':0.05})"
   ]
  },
  {
   "cell_type": "markdown",
   "metadata": {},
   "source": [
    "### 训练模型"
   ]
  },
  {
   "cell_type": "code",
   "execution_count": 150,
   "metadata": {},
   "outputs": [
    {
     "name": "stdout",
     "output_type": "stream",
     "text": [
      "Epoch 0, Loss: 1.719365\n",
      "Epoch 1, Loss: 0.000113\n",
      "Epoch 2, Loss: 0.000046\n",
      "Epoch 3, Loss: 0.000046\n",
      "Epoch 4, Loss: 0.000046\n"
     ]
    }
   ],
   "source": [
    "num_epochs = 5\n",
    "lr = 0.03\n",
    "batch_size = 10\n",
    "for epoch in range(num_epochs):\n",
    "    total_loss = 0.\n",
    "    for data, label in data_iter:\n",
    "        with autograd.record():\n",
    "            output = net(data)\n",
    "            loss = L2Loss(output, label)\n",
    "        loss.backward()\n",
    "        trainer.step(batch_size)\n",
    "        total_loss += loss.sum().asscalar()\n",
    "    print(\"Epoch %d, Loss: %f\" %(epoch, total_loss/num_examples))"
   ]
  },
  {
   "cell_type": "code",
   "execution_count": 156,
   "metadata": {},
   "outputs": [
    {
     "name": "stdout",
     "output_type": "stream",
     "text": [
      "Epoch 0, Loss: 0.274439\n",
      "Epoch 1, Loss: 0.000053\n",
      "Epoch 2, Loss: 0.000052\n",
      "Epoch 3, Loss: 0.000051\n",
      "Epoch 4, Loss: 0.000053\n",
      "Epoch 5, Loss: 0.000052\n",
      "Epoch 6, Loss: 0.000051\n",
      "Epoch 7, Loss: 0.000051\n",
      "Epoch 8, Loss: 0.000051\n",
      "Epoch 9, Loss: 0.000051\n"
     ]
    }
   ],
   "source": [
    "lr = 0.5\n",
    "num_epochs = 10\n",
    "batch_size = 10\n",
    "\n",
    "dataset = gluon.data.ArrayDataset(x, y)\n",
    "data_iter = gluon.data.DataLoader(dataset, batch_size=batch_size, shuffle=True)\n",
    "\n",
    "net = gluon.nn.Sequential()\n",
    "net.add(gluon.nn.Dense(1))\n",
    "net.initialize()\n",
    "\n",
    "L2Loss = gluon.loss.L2Loss()\n",
    "trainer = gluon.Trainer(net.collect_params(), 'sgd', {'learning_rate':lr})\n",
    "\n",
    "for epoch in range(num_epochs):\n",
    "    total_loss = 0.\n",
    "    for data, label in data_iter:\n",
    "        with autograd.record():\n",
    "            output = net(data)\n",
    "            loss = L2Loss(output, label)\n",
    "        loss.backward()\n",
    "        trainer.step(batch_size)\n",
    "        total_loss += loss.sum().asscalar()\n",
    "    print(\"Epoch %d, Loss: %f\" %(epoch, total_loss/num_examples))"
   ]
  },
  {
   "cell_type": "code",
   "execution_count": 157,
   "metadata": {},
   "outputs": [
    {
     "name": "stdout",
     "output_type": "stream",
     "text": [
      "Help on method step in module mxnet.gluon.trainer:\n",
      "\n",
      "step(batch_size, ignore_stale_grad=False) method of mxnet.gluon.trainer.Trainer instance\n",
      "    Makes one step of parameter update. Should be called after\n",
      "    `autograd.backward()` and outside of `record()` scope.\n",
      "    \n",
      "    For normal parameter updates, `step()` should be used, which internally calls\n",
      "    `allreduce_grads()` and then `update()`. However, if you need to get the reduced\n",
      "    gradients to perform certain transformation, such as in gradient clipping, then\n",
      "    you may want to manually call `allreduce_grads()` and `update()` separately.\n",
      "    \n",
      "    Parameters\n",
      "    ----------\n",
      "    batch_size : int\n",
      "        Batch size of data processed. Gradient will be normalized by `1/batch_size`.\n",
      "        Set this to 1 if you normalized loss manually with `loss = mean(loss)`.\n",
      "    ignore_stale_grad : bool, optional, default=False\n",
      "        If true, ignores Parameters with stale gradient (gradient that has not\n",
      "        been updated by `backward` after last step) and skip update.\n",
      "\n"
     ]
    }
   ],
   "source": [
    "help(trainer.step)"
   ]
  },
  {
   "cell_type": "code",
   "execution_count": null,
   "metadata": {},
   "outputs": [],
   "source": []
  }
 ],
 "metadata": {
  "kernelspec": {
   "display_name": "Python 3",
   "language": "python",
   "name": "python3"
  },
  "language_info": {
   "codemirror_mode": {
    "name": "ipython",
    "version": 3
   },
   "file_extension": ".py",
   "mimetype": "text/x-python",
   "name": "python",
   "nbconvert_exporter": "python",
   "pygments_lexer": "ipython3",
   "version": "3.6.5"
  }
 },
 "nbformat": 4,
 "nbformat_minor": 2
}
