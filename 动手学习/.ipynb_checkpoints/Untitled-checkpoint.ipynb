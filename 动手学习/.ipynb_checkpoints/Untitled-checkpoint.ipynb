{
 "cells": [
  {
   "cell_type": "code",
   "execution_count": 1,
   "metadata": {},
   "outputs": [],
   "source": [
    "from mxnet import autograd as ag \n",
    "from mxnet import nd"
   ]
  },
  {
   "cell_type": "code",
   "execution_count": 168,
   "metadata": {},
   "outputs": [],
   "source": [
    "num_examples = 10\n",
    "x = nd.arange(num_examples)\n",
    "true_w = 2\n",
    "true_b = 1 \n",
    "y = true_w * x + true_b"
   ]
  },
  {
   "cell_type": "code",
   "execution_count": 222,
   "metadata": {},
   "outputs": [],
   "source": [
    "w = nd.zeros(1)\n",
    "b = nd.zeros(1)\n",
    "params = [w, b]\n",
    "for param in params:\n",
    "    param.attach_grad()"
   ]
  },
  {
   "cell_type": "code",
   "execution_count": 212,
   "metadata": {},
   "outputs": [],
   "source": [
    "def net(x):\n",
    "    return x * w + b\n",
    "def square_loss(y_hat, y):\n",
    "    return 0.5 * (y_hat - y.reshape(y_hat.shape))**2"
   ]
  },
  {
   "cell_type": "code",
   "execution_count": 213,
   "metadata": {},
   "outputs": [],
   "source": [
    "def data_iter(x,y,batch_size):\n",
    "    index = nd.arange(len(x))\n",
    "    for i in range(0, len(index), batch_size):\n",
    "        j = index[i:min(i+batch_size, num_examples)]\n",
    "        yield x.take(j), y.take(j)\n",
    "def sgd(params, lr, batch_size):\n",
    "    for param in params:\n",
    "        param[:] = param - lr * param.grad/batch_size"
   ]
  },
  {
   "cell_type": "code",
   "execution_count": 223,
   "metadata": {
    "scrolled": true
   },
   "outputs": [
    {
     "name": "stdout",
     "output_type": "stream",
     "text": [
      "Loss: 66.500000\n",
      "Loss: 1.075607\n",
      "Loss: 0.077164\n",
      "Loss: 0.060918\n",
      "Loss: 0.059662\n",
      "Loss: 0.058652\n",
      "Loss: 0.057663\n",
      "Loss: 0.056690\n",
      "Loss: 0.055734\n",
      "Loss: 0.054793\n"
     ]
    }
   ],
   "source": [
    "batch_size = 10\n",
    "count = 0\n",
    "lr = 0.03\n",
    "for epoch in range(10):\n",
    "    total_loss = 0.\n",
    "    for data, label in data_iter(x, y, batch_size):\n",
    "        with ag.record():\n",
    "            output = net(data)\n",
    "            loss = square_loss(output, label)\n",
    "        loss.backward()\n",
    "        sgd(params, lr, batch_size)\n",
    "        total_loss += loss.sum().asscalar()\n",
    "    print('Loss: %f' %(total_loss/num_examples))"
   ]
  },
  {
   "cell_type": "code",
   "execution_count": 191,
   "metadata": {},
   "outputs": [
    {
     "data": {
      "text/plain": [
       "\n",
       "[1.050225]\n",
       "<NDArray 1 @cpu(0)>"
      ]
     },
     "execution_count": 191,
     "metadata": {},
     "output_type": "execute_result"
    }
   ],
   "source": [
    "w"
   ]
  },
  {
   "cell_type": "code",
   "execution_count": 174,
   "metadata": {},
   "outputs": [
    {
     "data": {
      "text/plain": [
       "\n",
       "[0.4566091]\n",
       "<NDArray 1 @cpu(0)>"
      ]
     },
     "execution_count": 174,
     "metadata": {},
     "output_type": "execute_result"
    }
   ],
   "source": [
    "b"
   ]
  },
  {
   "cell_type": "code",
   "execution_count": 49,
   "metadata": {},
   "outputs": [
    {
     "data": {
      "text/plain": [
       "\n",
       "[ 1.  3.  5.  7.  9. 11. 13. 15. 17. 19.]\n",
       "<NDArray 10 @cpu(0)>"
      ]
     },
     "execution_count": 49,
     "metadata": {},
     "output_type": "execute_result"
    }
   ],
   "source": [
    "y"
   ]
  },
  {
   "cell_type": "code",
   "execution_count": null,
   "metadata": {},
   "outputs": [],
   "source": []
  }
 ],
 "metadata": {
  "kernelspec": {
   "display_name": "Python 3",
   "language": "python",
   "name": "python3"
  },
  "language_info": {
   "codemirror_mode": {
    "name": "ipython",
    "version": 3
   },
   "file_extension": ".py",
   "mimetype": "text/x-python",
   "name": "python",
   "nbconvert_exporter": "python",
   "pygments_lexer": "ipython3",
   "version": "3.6.5"
  }
 },
 "nbformat": 4,
 "nbformat_minor": 2
}
